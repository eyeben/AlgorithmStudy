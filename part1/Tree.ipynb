{
 "cells": [
  {
   "cell_type": "code",
   "execution_count": 12,
   "id": "retired-warren",
   "metadata": {},
   "outputs": [
    {
     "name": "stdout",
     "output_type": "stream",
     "text": [
      "2\n",
      "4\n",
      "5\n",
      "6\n",
      "10\n",
      "12\n"
     ]
    }
   ],
   "source": [
    "class Node:\n",
    "    def __init__(self,data):\n",
    "        self.data=data\n",
    "        self.left=None\n",
    "        self.right=None\n",
    "    \n",
    "def binary_tree(num,node):\n",
    "    if num<node.data:\n",
    "        if not node.left:\n",
    "            node.left=Node(num)\n",
    "        else:\n",
    "            binary_tree(num,node.left)\n",
    "    else:\n",
    "        if not node.right:\n",
    "            node.right=Node(num)\n",
    "        else:\n",
    "            binary_tree(num,node.right)\n",
    "\n",
    "def show_in_order(node):\n",
    "    if not node:\n",
    "        return\n",
    "    show_in_order(node.left)\n",
    "    print(node.data)\n",
    "    show_in_order(node.right)\n",
    "    \n",
    "    \n",
    "    \n",
    "head=Node(6)\n",
    "list_of_nums=[10, 2, 4, 5, 12]\n",
    "for i in list_of_nums:\n",
    "    binary_tree(i,head)\n",
    "    \n",
    "\n",
    "show_in_order(head)\n"
   ]
  },
  {
   "cell_type": "code",
   "execution_count": null,
   "id": "social-lodge",
   "metadata": {},
   "outputs": [],
   "source": []
  }
 ],
 "metadata": {
  "kernelspec": {
   "display_name": "Python 3",
   "language": "python",
   "name": "python3"
  },
  "language_info": {
   "codemirror_mode": {
    "name": "ipython",
    "version": 3
   },
   "file_extension": ".py",
   "mimetype": "text/x-python",
   "name": "python",
   "nbconvert_exporter": "python",
   "pygments_lexer": "ipython3",
   "version": "3.7.3"
  }
 },
 "nbformat": 4,
 "nbformat_minor": 5
}
