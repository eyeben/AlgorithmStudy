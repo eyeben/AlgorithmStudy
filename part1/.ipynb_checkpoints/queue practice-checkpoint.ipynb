{
 "cells": [
  {
   "cell_type": "code",
   "execution_count": 2,
   "id": "recreational-therapist",
   "metadata": {},
   "outputs": [],
   "source": [
    "import queue\n",
    "data_queue=queue.Queue()"
   ]
  },
  {
   "cell_type": "code",
   "execution_count": 3,
   "id": "egyptian-subsection",
   "metadata": {},
   "outputs": [],
   "source": [
    "data_queue.put(\"data01\")\n",
    "data_queue.put(2)"
   ]
  },
  {
   "cell_type": "code",
   "execution_count": 4,
   "id": "strange-inflation",
   "metadata": {},
   "outputs": [
    {
     "data": {
      "text/plain": [
       "'data01'"
      ]
     },
     "execution_count": 4,
     "metadata": {},
     "output_type": "execute_result"
    }
   ],
   "source": [
    "data_queue.get()"
   ]
  },
  {
   "cell_type": "code",
   "execution_count": 5,
   "id": "unlimited-hobby",
   "metadata": {},
   "outputs": [
    {
     "data": {
      "text/plain": [
       "2"
      ]
     },
     "execution_count": 5,
     "metadata": {},
     "output_type": "execute_result"
    }
   ],
   "source": [
    "data_queue.get()"
   ]
  },
  {
   "cell_type": "code",
   "execution_count": null,
   "id": "touched-niger",
   "metadata": {},
   "outputs": [],
   "source": [
    "data_queue.get()"
   ]
  },
  {
   "cell_type": "code",
   "execution_count": null,
   "id": "manufactured-government",
   "metadata": {},
   "outputs": [],
   "source": []
  }
 ],
 "metadata": {
  "kernelspec": {
   "display_name": "Python 3",
   "language": "python",
   "name": "python3"
  },
  "language_info": {
   "codemirror_mode": {
    "name": "ipython",
    "version": 3
   },
   "file_extension": ".py",
   "mimetype": "text/x-python",
   "name": "python",
   "nbconvert_exporter": "python",
   "pygments_lexer": "ipython3",
   "version": "3.7.3"
  }
 },
 "nbformat": 4,
 "nbformat_minor": 5
}
