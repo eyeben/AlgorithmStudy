{
 "cells": [
  {
   "cell_type": "code",
   "execution_count": 1,
   "id": "timely-infrastructure",
   "metadata": {},
   "outputs": [
    {
     "ename": "SyntaxError",
     "evalue": "invalid syntax (<ipython-input-1-2293128eb119>, line 1)",
     "output_type": "error",
     "traceback": [
      "\u001b[1;36m  File \u001b[1;32m\"<ipython-input-1-2293128eb119>\"\u001b[1;36m, line \u001b[1;32m1\u001b[0m\n\u001b[1;33m    def Node:\u001b[0m\n\u001b[1;37m            ^\u001b[0m\n\u001b[1;31mSyntaxError\u001b[0m\u001b[1;31m:\u001b[0m invalid syntax\n"
     ]
    }
   ],
   "source": [
    "def Node:\n",
    "    def __init__(self, data, next=None, previous=None):\n",
    "        self.data=data\n",
    "        self.next=next\n",
    "        self.previous=previous\n",
    "def NodeMng:\n",
    "    def __init__(self, data):\n",
    "        self.head=Node(data)\n",
    "        self.tail=self.head\n",
    "    def add(self.data):\n",
    "        \n",
    "    def insert_before(self.data,before_data):\n",
    "        node=self.head\n",
    "        if node.data==before_data:\n",
    "                tmp=Node(data,self.head)\n",
    "                self.head.previous=tmp\n",
    "                self.head=tmp\n",
    "                \n",
    "        else:\n",
    "            while node:\n",
    "                if node.next.data==before_data:\n",
    "                    break\n",
    "            #node.next.next의 자료형은 node가 가리키는 다음 다음의\n",
    "            #주소인가 아니면 다음 노드 클래스의 속성(next)인가\n",
    "            tmp=Node(data,node.next,node)\n",
    "            nextnode=node.next\n",
    "            (node.next).previous=tmp\n",
    "            node.next=tmp\n",
    "            \n",
    "                    \n",
    "            \n",
    "    def search_from_end(self,data):"
   ]
  },
  {
   "cell_type": "code",
   "execution_count": null,
   "id": "intense-method",
   "metadata": {},
   "outputs": [],
   "source": []
  }
 ],
 "metadata": {
  "kernelspec": {
   "display_name": "Python 3",
   "language": "python",
   "name": "python3"
  },
  "language_info": {
   "codemirror_mode": {
    "name": "ipython",
    "version": 3
   },
   "file_extension": ".py",
   "mimetype": "text/x-python",
   "name": "python",
   "nbconvert_exporter": "python",
   "pygments_lexer": "ipython3",
   "version": "3.7.3"
  }
 },
 "nbformat": 4,
 "nbformat_minor": 5
}
