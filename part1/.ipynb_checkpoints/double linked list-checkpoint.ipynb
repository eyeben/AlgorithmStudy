{
 "cells": [
  {
   "cell_type": "code",
   "execution_count": 20,
   "id": "timely-infrastructure",
   "metadata": {},
   "outputs": [
    {
     "name": "stdout",
     "output_type": "stream",
     "text": [
      "3\n",
      "2\n",
      "1\n",
      "0\n",
      "loop\n",
      "loop\n",
      "------\n",
      "3\n",
      "2\n",
      "7\n",
      "1\n",
      "0\n"
     ]
    }
   ],
   "source": [
    "class Node:\n",
    "    def __init__(self, data, next=None, previous=None):\n",
    "        self.data=data\n",
    "        self.next=next\n",
    "        self.previous=previous\n",
    "\n",
    "class NodeMng:\n",
    "    def __init__(self, data):\n",
    "        self.head=Node(data)\n",
    "        self.tail=self.head\n",
    "    \n",
    "    def add(self, data):\n",
    "        node=self.head\n",
    "        if not node:\n",
    "            NodeMng(data)\n",
    "            return\n",
    "        while node.next:\n",
    "            node=node.next\n",
    "        self.tail=node.next=Node(data,None,node)\n",
    "        \n",
    "    def insert_before(self, data, before_data):\n",
    "        node=self.head\n",
    "        if node.data==before_data:\n",
    "            tmp=Node(data,self.head)\n",
    "            self.head.previous=tmp\n",
    "            self.head=tmp\n",
    "            return\n",
    "                \n",
    "        while node:\n",
    "            if node.next.data==before_data:\n",
    "                break\n",
    "            node=node.next\n",
    "        #node.next.previous의 자료형은 node가 가리키는 다음 이전의\n",
    "        #주소인가 아니면 다음 노드 클래스의 속성(self.previous)인가\n",
    "        #답: tmp의 자료형에 따라 노드클래스가 아닐까\n",
    "        tmp=Node(data,node.next,node)\n",
    "        node.next.previous=tmp\n",
    "        node.next=tmp\n",
    "\n",
    "                    \n",
    "            \n",
    "    def search_from_end(self):\n",
    "        node=self.tail\n",
    "        if not node:\n",
    "            return\n",
    "        while node:\n",
    "            print(node.data)\n",
    "            node=node.previous\n",
    "            \n",
    "head=NodeMng(0)\n",
    "for i in range(1,4):\n",
    "    head.add(i)\n",
    "head.search_from_end()\n",
    "head.insert_before(7,2)\n",
    "print(\"------\")\n",
    "head.search_from_end()"
   ]
  },
  {
   "cell_type": "code",
   "execution_count": null,
   "id": "hollywood-passenger",
   "metadata": {},
   "outputs": [],
   "source": []
  }
 ],
 "metadata": {
  "kernelspec": {
   "display_name": "Python 3",
   "language": "python",
   "name": "python3"
  },
  "language_info": {
   "codemirror_mode": {
    "name": "ipython",
    "version": 3
   },
   "file_extension": ".py",
   "mimetype": "text/x-python",
   "name": "python",
   "nbconvert_exporter": "python",
   "pygments_lexer": "ipython3",
   "version": "3.7.3"
  }
 },
 "nbformat": 4,
 "nbformat_minor": 5
}
