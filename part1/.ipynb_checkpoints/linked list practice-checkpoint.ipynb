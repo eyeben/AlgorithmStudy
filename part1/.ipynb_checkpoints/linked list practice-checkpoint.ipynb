{
 "cells": [
  {
   "cell_type": "code",
   "execution_count": 3,
   "id": "blessed-municipality",
   "metadata": {},
   "outputs": [],
   "source": [
    "# class Node:\n",
    "#     def __init__(self,data,next=None):\n",
    "#         self.data=data\n",
    "#         self.next=next\n",
    "\n",
    "# def add(data):\n",
    "#     node=head\n",
    "#     while node.next != None:\n",
    "#         node=node.next\n",
    "#     node.next=Node(data)\n",
    "# head=Node(0)\n",
    "# add(1)\n",
    "# add(2)\n",
    "# tmp=head\n",
    "# while 1:\n",
    "#     print(tmp.data)\n",
    "#     if tmp.next==None:\n",
    "#         break\n",
    "#     tmp=tmp.next\n",
    "        "
   ]
  },
  {
   "cell_type": "code",
   "execution_count": 8,
   "id": "soviet-offering",
   "metadata": {},
   "outputs": [
    {
     "name": "stdout",
     "output_type": "stream",
     "text": [
      "0\n",
      "1\n"
     ]
    }
   ],
   "source": [
    "class Node:\n",
    "    \n",
    "    def __init__(self,data,next=None):\n",
    "        self.data=data\n",
    "        self.next=next\n",
    "        \n",
    "class Nodemgmt:\n",
    "    \n",
    "    def __init__(self,head):\n",
    "        self.head=Node(head)\n",
    "    \n",
    "    def add(self, data):\n",
    "        node=self.head\n",
    "        while node.next:\n",
    "            node=node.next\n",
    "        node.next=Node(data)\n",
    "    \n",
    "    def viewall(self):\n",
    "        node=self.head\n",
    "        while node:\n",
    "            print(node.data)\n",
    "            node=node.next\n",
    "\n",
    "linked1=Nodemgmt(0)\n",
    "linked1.add(1)\n",
    "linked1.viewall()"
   ]
  },
  {
   "cell_type": "code",
   "execution_count": null,
   "id": "recorded-powell",
   "metadata": {},
   "outputs": [],
   "source": []
  }
 ],
 "metadata": {
  "kernelspec": {
   "display_name": "Python 3",
   "language": "python",
   "name": "python3"
  },
  "language_info": {
   "codemirror_mode": {
    "name": "ipython",
    "version": 3
   },
   "file_extension": ".py",
   "mimetype": "text/x-python",
   "name": "python",
   "nbconvert_exporter": "python",
   "pygments_lexer": "ipython3",
   "version": "3.7.3"
  }
 },
 "nbformat": 4,
 "nbformat_minor": 5
}
