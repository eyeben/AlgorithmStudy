{
 "cells": [
  {
   "cell_type": "code",
   "execution_count": 3,
   "id": "blessed-municipality",
   "metadata": {},
   "outputs": [],
   "source": [
    "# class Node:\n",
    "#     def __init__(self,data,next=None):\n",
    "#         self.data=data\n",
    "#         self.next=next\n",
    "\n",
    "# def add(data):\n",
    "#     node=head\n",
    "#     while node.next != None:\n",
    "#         node=node.next\n",
    "#     node.next=Node(data)\n",
    "# head=Node(0)\n",
    "# add(1)\n",
    "# add(2)\n",
    "# tmp=head\n",
    "# while 1:\n",
    "#     print(tmp.data)\n",
    "#     if tmp.next==None:\n",
    "#         break\n",
    "#     tmp=tmp.next\n",
    "        "
   ]
  },
  {
   "cell_type": "code",
   "execution_count": null,
   "id": "soviet-offering",
   "metadata": {},
   "outputs": [],
   "source": [
    "class Node:\n",
    "    head=Node(None)\n",
    "    def __init__(self, data, next=None):\n",
    "        self.data=data\n",
    "        self.next=next\n",
    "class Nodemgmt:\n",
    "    def add(self, data):\n",
    "        node=head\n",
    "        while node.next!=None:\n",
    "            node=node.next\n",
    "        node.next=Node(data)\n",
    "    def desc(self):"
   ]
  }
 ],
 "metadata": {
  "kernelspec": {
   "display_name": "Python 3",
   "language": "python",
   "name": "python3"
  },
  "language_info": {
   "codemirror_mode": {
    "name": "ipython",
    "version": 3
   },
   "file_extension": ".py",
   "mimetype": "text/x-python",
   "name": "python",
   "nbconvert_exporter": "python",
   "pygments_lexer": "ipython3",
   "version": "3.7.3"
  }
 },
 "nbformat": 4,
 "nbformat_minor": 5
}
